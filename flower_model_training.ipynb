{
  "nbformat": 4,
  "nbformat_minor": 0,
  "metadata": {
    "colab": {
      "name": "flower_model_training.ipynb",
      "private_outputs": true,
      "provenance": [],
      "collapsed_sections": []
    },
    "kernelspec": {
      "display_name": "Python 3",
      "name": "python3"
    },
    "language_info": {
      "name": "python"
    },
    "accelerator": "GPU"
  },
  "cells": [
    {
      "cell_type": "code",
      "metadata": {
        "id": "5s9lPTelSj6-"
      },
      "source": [
        "\n",
        "# from google.colab import files \n",
        "# uploaded = files.upload()\n",
        "from google.colab import drive\n",
        "drive.mount('/content/gdrive')\n"
      ],
      "execution_count": null,
      "outputs": []
    },
    {
      "cell_type": "code",
      "metadata": {
        "id": "W8lAP-WbECyB"
      },
      "source": [
        "import matplotlib.pyplot as plt\n",
        "from PIL import Image\n",
        "import pandas as pd\n",
        "%matplotlib inline\n",
        "import tensorflow as tf\n",
        "from tensorflow.keras import models, layers\n",
        "import numpy as np"
      ],
      "execution_count": null,
      "outputs": []
    },
    {
      "cell_type": "code",
      "metadata": {
        "id": "zbi4aQmMUSMp"
      },
      "source": [
        "BATCH_SIZE= 32\n",
        "IMAGE_SIZE= 256\n",
        "CHANNELS=3\n",
        "EPOCHS=50\n",
        "input_shape= (BATCH_SIZE,IMAGE_SIZE,IMAGE_SIZE,CHANNELS)"
      ],
      "execution_count": null,
      "outputs": []
    },
    {
      "cell_type": "code",
      "metadata": {
        "id": "lHsmF2aycAmZ"
      },
      "source": [
        "dataset = tf.keras.preprocessing.image_dataset_from_directory(\"/content/gdrive/MyDrive/flowers\",shuffle\n",
        "                                                              =True,image_size=(IMAGE_SIZE,IMAGE_SIZE),\n",
        "                                                              batch_size=BATCH_SIZE)"
      ],
      "execution_count": null,
      "outputs": []
    },
    {
      "cell_type": "code",
      "metadata": {
        "id": "0NHCw7q7dGQh"
      },
      "source": [
        "class_names= dataset.class_names\n",
        "class_names"
      ],
      "execution_count": null,
      "outputs": []
    },
    {
      "cell_type": "code",
      "metadata": {
        "id": "etPc3n3XdSds"
      },
      "source": [
        "plt.figure(figsize=(10,10))\n",
        "for image_batch,labels_batch in dataset.take(1):\n",
        "    print(image_batch.shape)\n",
        "    print(labels_batch.numpy())\n",
        "    for i in range(11):\n",
        "        ax= plt.subplot(3,4,i+1)\n",
        "        plt.imshow(image_batch[i].numpy().astype(\"uint8\"))\n",
        "        plt.title(class_names[labels_batch[i]])\n",
        "        plt.axis(\"off\")"
      ],
      "execution_count": null,
      "outputs": []
    },
    {
      "cell_type": "code",
      "metadata": {
        "id": "oJe_6d1Tdwfa"
      },
      "source": [
        "def get_dataset_part(ds,train_split=0.8,val_split=0.1,test_split=0.1,shufffle=True):\n",
        "    assert(train_split+val_split+test_split)==1\n",
        "    ds_size= len(ds)\n",
        "    train_size= int(train_split*ds_size)\n",
        "    val_size= int(val_split*ds_size)\n",
        "    \n",
        "    train_ds= ds.take(train_size)\n",
        "    val_ds= ds.skip(train_size).take(val_size)\n",
        "    test_ds= ds.skip(train_size).skip(val_size)\n",
        "    \n",
        "    return train_ds,val_ds,test_ds"
      ],
      "execution_count": null,
      "outputs": []
    },
    {
      "cell_type": "code",
      "metadata": {
        "id": "S7vU4jokio2R"
      },
      "source": [
        "\n",
        "train_size=0.8\n",
        "len(dataset)*train_size"
      ],
      "execution_count": null,
      "outputs": []
    },
    {
      "cell_type": "code",
      "metadata": {
        "id": "DJkLUey4iIAI"
      },
      "source": [
        "train_ds,val_ds,test_ds= get_dataset_part(dataset)"
      ],
      "execution_count": null,
      "outputs": []
    },
    {
      "cell_type": "code",
      "metadata": {
        "id": "O5Fd_7V8icjB"
      },
      "source": [
        "len(test_ds)"
      ],
      "execution_count": null,
      "outputs": []
    },
    {
      "cell_type": "code",
      "metadata": {
        "id": "JQrRHM4DifYH"
      },
      "source": [
        "train_ds = train_ds.cache().shuffle(1000).prefetch(buffer_size=tf.data.AUTOTUNE)\n",
        "val_ds = val_ds.cache().shuffle(1000).prefetch(buffer_size=tf.data.AUTOTUNE)\n",
        "test_ds = test_ds.cache().shuffle(1000).prefetch(buffer_size=tf.data.AUTOTUNE)"
      ],
      "execution_count": null,
      "outputs": []
    },
    {
      "cell_type": "code",
      "metadata": {
        "id": "Z02ABKtZjWcS"
      },
      "source": [
        "resize_and_rescale = tf.keras.Sequential([\n",
        "  layers.experimental.preprocessing.Resizing(IMAGE_SIZE, IMAGE_SIZE),\n",
        "  layers.experimental.preprocessing.Rescaling(1.0/255),\n",
        "])"
      ],
      "execution_count": null,
      "outputs": []
    },
    {
      "cell_type": "code",
      "metadata": {
        "id": "oOFBnCDpjZXH"
      },
      "source": [
        "\n",
        "data_augmentation = tf.keras.Sequential([\n",
        "  layers.experimental.preprocessing.RandomFlip(\"horizontal_and_vertical\"),\n",
        "  layers.experimental.preprocessing.RandomRotation(0.2),\n",
        "])"
      ],
      "execution_count": null,
      "outputs": []
    },
    {
      "cell_type": "code",
      "metadata": {
        "id": "il_lMbO3jcSb"
      },
      "source": [
        "n_classes=5\n",
        "model = models.Sequential([resize_and_rescale,\n",
        "                  data_augmentation,\n",
        "                  layers.Conv2D(32,kernel_size= (3,3),activation='relu',input_shape=input_shape),\n",
        "                 layers.MaxPooling2D((2,2)),\n",
        "                   layers.Conv2D(64,(3,3),activation='relu'),\n",
        "                 layers.MaxPooling2D((2,2)),\n",
        "                   layers.Conv2D(64,(3,3),activation='relu'),\n",
        "                 layers.MaxPooling2D((2,2)),\n",
        "                   layers.Conv2D(64,kernel_size= (3,3),activation='relu'),\n",
        "                 layers.MaxPooling2D((2,2)),\n",
        "                   layers.Flatten(),\n",
        "                   layers.Dense(64,activation='relu'),\n",
        "                   layers.Dense(n_classes,activation='softmax')\n",
        "                 ])\n",
        "model.build(input_shape)"
      ],
      "execution_count": null,
      "outputs": []
    },
    {
      "cell_type": "code",
      "metadata": {
        "id": "_Ex2NfWsjpCZ"
      },
      "source": [
        "model.summary()"
      ],
      "execution_count": null,
      "outputs": []
    },
    {
      "cell_type": "code",
      "metadata": {
        "id": "DrdVASD4jq2s"
      },
      "source": [
        "model.compile(optimizer='adam',loss= tf.keras.losses.SparseCategoricalCrossentropy(from_logits=False),\n",
        "             metrics=['accuracy']\n",
        "             )"
      ],
      "execution_count": null,
      "outputs": []
    },
    {
      "cell_type": "code",
      "metadata": {
        "id": "kJnSaasKjv0N"
      },
      "source": [
        "history = model.fit(train_ds,batch_size=BATCH_SIZE,validation_data=val_ds,verbose=1,\n",
        "                   epochs=15)"
      ],
      "execution_count": null,
      "outputs": []
    },
    {
      "cell_type": "code",
      "metadata": {
        "id": "yvTtBTGMjyya"
      },
      "source": [
        "model.evaluate(test_ds)"
      ],
      "execution_count": null,
      "outputs": []
    },
    {
      "cell_type": "code",
      "metadata": {
        "id": "_zLeIFFrkOgA"
      },
      "source": [
        "history.history.keys()"
      ],
      "execution_count": null,
      "outputs": []
    },
    {
      "cell_type": "code",
      "metadata": {
        "id": "6xwjKfgOvnmn"
      },
      "source": [
        "\n",
        "acc = history.history['accuracy']\n",
        "val_acc = history.history['val_accuracy']\n",
        "\n",
        "loss = history.history['loss']\n",
        "val_loss = history.history['val_loss']"
      ],
      "execution_count": null,
      "outputs": []
    },
    {
      "cell_type": "code",
      "metadata": {
        "id": "JCm80S2Svqsm"
      },
      "source": [
        "for image_batch,labels_batch in dataset.take(1):\n",
        "    img= image_batch[0].numpy().astype(\"uint8\")\n",
        "    label=labels_batch[0].numpy()\n",
        "    plt.imshow(img)\n",
        "    print(\"Actual Label : \",class_names[labels_batch[0].numpy()])\n",
        "    \n",
        "    batch_prediction= model.predict(image_batch)\n",
        "    print(\"Predicted Label : \",class_names[np.argmax(batch_prediction[0])])"
      ],
      "execution_count": null,
      "outputs": []
    },
    {
      "cell_type": "code",
      "metadata": {
        "id": "GZN6qk0j4tz6"
      },
      "source": [
        "def predict(model, img):\n",
        "    img_array = tf.keras.preprocessing.image.img_to_array(images[i].numpy())\n",
        "    img_array = tf.expand_dims(img_array, 0)\n",
        "\n",
        "    predictions = model.predict(img_array)\n",
        "\n",
        "    predicted_class = class_names[np.argmax(predictions[0])]\n",
        "    confidence = round(100 * (np.max(predictions[0])), 2)\n",
        "    return predicted_class, confidence"
      ],
      "execution_count": null,
      "outputs": []
    },
    {
      "cell_type": "code",
      "metadata": {
        "id": "DNCkFcjr4nWd"
      },
      "source": [
        "plt.figure(figsize=(15, 15))\n",
        "for images, labels in test_ds.take(1):\n",
        "    for i in range(9):\n",
        "        ax = plt.subplot(3, 3, i + 1)\n",
        "        plt.imshow(images[i].numpy().astype(\"uint8\"))\n",
        "        \n",
        "        predicted_class, confidence = predict(model, images[i].numpy())\n",
        "        actual_class = class_names[labels[i]] \n",
        "        \n",
        "        plt.title(f\"Actual: {actual_class},\\n Predicted: {predicted_class}.\\n Confidence: {confidence}%\")\n",
        "        \n",
        "        plt.axis(\"off\")"
      ],
      "execution_count": null,
      "outputs": []
    },
    {
      "cell_type": "code",
      "metadata": {
        "id": "WxWzKSpA416C"
      },
      "source": [
        "\n",
        "model.save(\"./flower_model.h5\")"
      ],
      "execution_count": null,
      "outputs": []
    },
    {
      "cell_type": "code",
      "metadata": {
        "id": "FpWCVepT5MNz"
      },
      "source": [
        ""
      ],
      "execution_count": null,
      "outputs": []
    }
  ]
}